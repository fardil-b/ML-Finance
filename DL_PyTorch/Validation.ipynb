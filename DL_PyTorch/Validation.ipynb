{
  "nbformat": 4,
  "nbformat_minor": 0,
  "metadata": {
    "colab": {
      "name": "Validation.ipynb",
      "provenance": [],
      "collapsed_sections": [],
      "include_colab_link": true
    },
    "language_info": {
      "codemirror_mode": {
        "name": "ipython",
        "version": 3
      },
      "file_extension": ".py",
      "mimetype": "text/x-python",
      "name": "python",
      "nbconvert_exporter": "python",
      "pygments_lexer": "ipython3",
      "version": "3.6.8"
    },
    "kernelspec": {
      "name": "python3",
      "display_name": "Python 3"
    },
    "widgets": {
      "application/vnd.jupyter.widget-state+json": {
        "b029b0db96784cc1b88f59e775d966da": {
          "model_module": "@jupyter-widgets/controls",
          "model_name": "HBoxModel",
          "state": {
            "_view_name": "HBoxView",
            "_dom_classes": [],
            "_model_name": "HBoxModel",
            "_view_module": "@jupyter-widgets/controls",
            "_model_module_version": "1.5.0",
            "_view_count": null,
            "_view_module_version": "1.5.0",
            "box_style": "",
            "layout": "IPY_MODEL_05456996cbb54174b7563798543b7eab",
            "_model_module": "@jupyter-widgets/controls",
            "children": [
              "IPY_MODEL_7f8879be4ed448508dc7958f97137863",
              "IPY_MODEL_8962197ad70649bfa1f246376c11b05d"
            ]
          }
        },
        "05456996cbb54174b7563798543b7eab": {
          "model_module": "@jupyter-widgets/base",
          "model_name": "LayoutModel",
          "state": {
            "_view_name": "LayoutView",
            "grid_template_rows": null,
            "right": null,
            "justify_content": null,
            "_view_module": "@jupyter-widgets/base",
            "overflow": null,
            "_model_module_version": "1.2.0",
            "_view_count": null,
            "flex_flow": null,
            "width": null,
            "min_width": null,
            "border": null,
            "align_items": null,
            "bottom": null,
            "_model_module": "@jupyter-widgets/base",
            "top": null,
            "grid_column": null,
            "overflow_y": null,
            "overflow_x": null,
            "grid_auto_flow": null,
            "grid_area": null,
            "grid_template_columns": null,
            "flex": null,
            "_model_name": "LayoutModel",
            "justify_items": null,
            "grid_row": null,
            "max_height": null,
            "align_content": null,
            "visibility": null,
            "align_self": null,
            "height": null,
            "min_height": null,
            "padding": null,
            "grid_auto_rows": null,
            "grid_gap": null,
            "max_width": null,
            "order": null,
            "_view_module_version": "1.2.0",
            "grid_template_areas": null,
            "object_position": null,
            "object_fit": null,
            "grid_auto_columns": null,
            "margin": null,
            "display": null,
            "left": null
          }
        },
        "7f8879be4ed448508dc7958f97137863": {
          "model_module": "@jupyter-widgets/controls",
          "model_name": "FloatProgressModel",
          "state": {
            "_view_name": "ProgressView",
            "style": "IPY_MODEL_df1a48d6ec7b4606bb69944183ad730f",
            "_dom_classes": [],
            "description": "",
            "_model_name": "FloatProgressModel",
            "bar_style": "success",
            "max": 1,
            "_view_module": "@jupyter-widgets/controls",
            "_model_module_version": "1.5.0",
            "value": 1,
            "_view_count": null,
            "_view_module_version": "1.5.0",
            "orientation": "horizontal",
            "min": 0,
            "description_tooltip": null,
            "_model_module": "@jupyter-widgets/controls",
            "layout": "IPY_MODEL_f6bb345a68d4464797f37f40c23e9136"
          }
        },
        "8962197ad70649bfa1f246376c11b05d": {
          "model_module": "@jupyter-widgets/controls",
          "model_name": "HTMLModel",
          "state": {
            "_view_name": "HTMLView",
            "style": "IPY_MODEL_6ae64242627a430fbdabe562fdb887f1",
            "_dom_classes": [],
            "description": "",
            "_model_name": "HTMLModel",
            "placeholder": "​",
            "_view_module": "@jupyter-widgets/controls",
            "_model_module_version": "1.5.0",
            "value": " 26427392/? [00:02&lt;00:00, 9135228.59it/s]",
            "_view_count": null,
            "_view_module_version": "1.5.0",
            "description_tooltip": null,
            "_model_module": "@jupyter-widgets/controls",
            "layout": "IPY_MODEL_5b2ef9ffb05e4e9a9f1b4134d2bdcfa4"
          }
        },
        "df1a48d6ec7b4606bb69944183ad730f": {
          "model_module": "@jupyter-widgets/controls",
          "model_name": "ProgressStyleModel",
          "state": {
            "_view_name": "StyleView",
            "_model_name": "ProgressStyleModel",
            "description_width": "initial",
            "_view_module": "@jupyter-widgets/base",
            "_model_module_version": "1.5.0",
            "_view_count": null,
            "_view_module_version": "1.2.0",
            "bar_color": null,
            "_model_module": "@jupyter-widgets/controls"
          }
        },
        "f6bb345a68d4464797f37f40c23e9136": {
          "model_module": "@jupyter-widgets/base",
          "model_name": "LayoutModel",
          "state": {
            "_view_name": "LayoutView",
            "grid_template_rows": null,
            "right": null,
            "justify_content": null,
            "_view_module": "@jupyter-widgets/base",
            "overflow": null,
            "_model_module_version": "1.2.0",
            "_view_count": null,
            "flex_flow": null,
            "width": null,
            "min_width": null,
            "border": null,
            "align_items": null,
            "bottom": null,
            "_model_module": "@jupyter-widgets/base",
            "top": null,
            "grid_column": null,
            "overflow_y": null,
            "overflow_x": null,
            "grid_auto_flow": null,
            "grid_area": null,
            "grid_template_columns": null,
            "flex": null,
            "_model_name": "LayoutModel",
            "justify_items": null,
            "grid_row": null,
            "max_height": null,
            "align_content": null,
            "visibility": null,
            "align_self": null,
            "height": null,
            "min_height": null,
            "padding": null,
            "grid_auto_rows": null,
            "grid_gap": null,
            "max_width": null,
            "order": null,
            "_view_module_version": "1.2.0",
            "grid_template_areas": null,
            "object_position": null,
            "object_fit": null,
            "grid_auto_columns": null,
            "margin": null,
            "display": null,
            "left": null
          }
        },
        "6ae64242627a430fbdabe562fdb887f1": {
          "model_module": "@jupyter-widgets/controls",
          "model_name": "DescriptionStyleModel",
          "state": {
            "_view_name": "StyleView",
            "_model_name": "DescriptionStyleModel",
            "description_width": "",
            "_view_module": "@jupyter-widgets/base",
            "_model_module_version": "1.5.0",
            "_view_count": null,
            "_view_module_version": "1.2.0",
            "_model_module": "@jupyter-widgets/controls"
          }
        },
        "5b2ef9ffb05e4e9a9f1b4134d2bdcfa4": {
          "model_module": "@jupyter-widgets/base",
          "model_name": "LayoutModel",
          "state": {
            "_view_name": "LayoutView",
            "grid_template_rows": null,
            "right": null,
            "justify_content": null,
            "_view_module": "@jupyter-widgets/base",
            "overflow": null,
            "_model_module_version": "1.2.0",
            "_view_count": null,
            "flex_flow": null,
            "width": null,
            "min_width": null,
            "border": null,
            "align_items": null,
            "bottom": null,
            "_model_module": "@jupyter-widgets/base",
            "top": null,
            "grid_column": null,
            "overflow_y": null,
            "overflow_x": null,
            "grid_auto_flow": null,
            "grid_area": null,
            "grid_template_columns": null,
            "flex": null,
            "_model_name": "LayoutModel",
            "justify_items": null,
            "grid_row": null,
            "max_height": null,
            "align_content": null,
            "visibility": null,
            "align_self": null,
            "height": null,
            "min_height": null,
            "padding": null,
            "grid_auto_rows": null,
            "grid_gap": null,
            "max_width": null,
            "order": null,
            "_view_module_version": "1.2.0",
            "grid_template_areas": null,
            "object_position": null,
            "object_fit": null,
            "grid_auto_columns": null,
            "margin": null,
            "display": null,
            "left": null
          }
        },
        "3100c462d73c435884e0f67cc0079342": {
          "model_module": "@jupyter-widgets/controls",
          "model_name": "HBoxModel",
          "state": {
            "_view_name": "HBoxView",
            "_dom_classes": [],
            "_model_name": "HBoxModel",
            "_view_module": "@jupyter-widgets/controls",
            "_model_module_version": "1.5.0",
            "_view_count": null,
            "_view_module_version": "1.5.0",
            "box_style": "",
            "layout": "IPY_MODEL_3bb22acf3e4c4475951e709b2183a451",
            "_model_module": "@jupyter-widgets/controls",
            "children": [
              "IPY_MODEL_927855a3193f4456989f63068299c56a",
              "IPY_MODEL_d44813be40114b359412d1abb7bd2836"
            ]
          }
        },
        "3bb22acf3e4c4475951e709b2183a451": {
          "model_module": "@jupyter-widgets/base",
          "model_name": "LayoutModel",
          "state": {
            "_view_name": "LayoutView",
            "grid_template_rows": null,
            "right": null,
            "justify_content": null,
            "_view_module": "@jupyter-widgets/base",
            "overflow": null,
            "_model_module_version": "1.2.0",
            "_view_count": null,
            "flex_flow": null,
            "width": null,
            "min_width": null,
            "border": null,
            "align_items": null,
            "bottom": null,
            "_model_module": "@jupyter-widgets/base",
            "top": null,
            "grid_column": null,
            "overflow_y": null,
            "overflow_x": null,
            "grid_auto_flow": null,
            "grid_area": null,
            "grid_template_columns": null,
            "flex": null,
            "_model_name": "LayoutModel",
            "justify_items": null,
            "grid_row": null,
            "max_height": null,
            "align_content": null,
            "visibility": null,
            "align_self": null,
            "height": null,
            "min_height": null,
            "padding": null,
            "grid_auto_rows": null,
            "grid_gap": null,
            "max_width": null,
            "order": null,
            "_view_module_version": "1.2.0",
            "grid_template_areas": null,
            "object_position": null,
            "object_fit": null,
            "grid_auto_columns": null,
            "margin": null,
            "display": null,
            "left": null
          }
        },
        "927855a3193f4456989f63068299c56a": {
          "model_module": "@jupyter-widgets/controls",
          "model_name": "FloatProgressModel",
          "state": {
            "_view_name": "ProgressView",
            "style": "IPY_MODEL_c5d1037debd3490d80ffcdfcbfc91fea",
            "_dom_classes": [],
            "description": "",
            "_model_name": "FloatProgressModel",
            "bar_style": "success",
            "max": 1,
            "_view_module": "@jupyter-widgets/controls",
            "_model_module_version": "1.5.0",
            "value": 1,
            "_view_count": null,
            "_view_module_version": "1.5.0",
            "orientation": "horizontal",
            "min": 0,
            "description_tooltip": null,
            "_model_module": "@jupyter-widgets/controls",
            "layout": "IPY_MODEL_34055d9468444fc4b85df674e6722941"
          }
        },
        "d44813be40114b359412d1abb7bd2836": {
          "model_module": "@jupyter-widgets/controls",
          "model_name": "HTMLModel",
          "state": {
            "_view_name": "HTMLView",
            "style": "IPY_MODEL_5c7355f5d251447c8abdf5abadc1a0a5",
            "_dom_classes": [],
            "description": "",
            "_model_name": "HTMLModel",
            "placeholder": "​",
            "_view_module": "@jupyter-widgets/controls",
            "_model_module_version": "1.5.0",
            "value": " 32768/? [00:00&lt;00:00, 83503.68it/s]",
            "_view_count": null,
            "_view_module_version": "1.5.0",
            "description_tooltip": null,
            "_model_module": "@jupyter-widgets/controls",
            "layout": "IPY_MODEL_94e881fd940a489e9eeda5f593bfe96c"
          }
        },
        "c5d1037debd3490d80ffcdfcbfc91fea": {
          "model_module": "@jupyter-widgets/controls",
          "model_name": "ProgressStyleModel",
          "state": {
            "_view_name": "StyleView",
            "_model_name": "ProgressStyleModel",
            "description_width": "initial",
            "_view_module": "@jupyter-widgets/base",
            "_model_module_version": "1.5.0",
            "_view_count": null,
            "_view_module_version": "1.2.0",
            "bar_color": null,
            "_model_module": "@jupyter-widgets/controls"
          }
        },
        "34055d9468444fc4b85df674e6722941": {
          "model_module": "@jupyter-widgets/base",
          "model_name": "LayoutModel",
          "state": {
            "_view_name": "LayoutView",
            "grid_template_rows": null,
            "right": null,
            "justify_content": null,
            "_view_module": "@jupyter-widgets/base",
            "overflow": null,
            "_model_module_version": "1.2.0",
            "_view_count": null,
            "flex_flow": null,
            "width": null,
            "min_width": null,
            "border": null,
            "align_items": null,
            "bottom": null,
            "_model_module": "@jupyter-widgets/base",
            "top": null,
            "grid_column": null,
            "overflow_y": null,
            "overflow_x": null,
            "grid_auto_flow": null,
            "grid_area": null,
            "grid_template_columns": null,
            "flex": null,
            "_model_name": "LayoutModel",
            "justify_items": null,
            "grid_row": null,
            "max_height": null,
            "align_content": null,
            "visibility": null,
            "align_self": null,
            "height": null,
            "min_height": null,
            "padding": null,
            "grid_auto_rows": null,
            "grid_gap": null,
            "max_width": null,
            "order": null,
            "_view_module_version": "1.2.0",
            "grid_template_areas": null,
            "object_position": null,
            "object_fit": null,
            "grid_auto_columns": null,
            "margin": null,
            "display": null,
            "left": null
          }
        },
        "5c7355f5d251447c8abdf5abadc1a0a5": {
          "model_module": "@jupyter-widgets/controls",
          "model_name": "DescriptionStyleModel",
          "state": {
            "_view_name": "StyleView",
            "_model_name": "DescriptionStyleModel",
            "description_width": "",
            "_view_module": "@jupyter-widgets/base",
            "_model_module_version": "1.5.0",
            "_view_count": null,
            "_view_module_version": "1.2.0",
            "_model_module": "@jupyter-widgets/controls"
          }
        },
        "94e881fd940a489e9eeda5f593bfe96c": {
          "model_module": "@jupyter-widgets/base",
          "model_name": "LayoutModel",
          "state": {
            "_view_name": "LayoutView",
            "grid_template_rows": null,
            "right": null,
            "justify_content": null,
            "_view_module": "@jupyter-widgets/base",
            "overflow": null,
            "_model_module_version": "1.2.0",
            "_view_count": null,
            "flex_flow": null,
            "width": null,
            "min_width": null,
            "border": null,
            "align_items": null,
            "bottom": null,
            "_model_module": "@jupyter-widgets/base",
            "top": null,
            "grid_column": null,
            "overflow_y": null,
            "overflow_x": null,
            "grid_auto_flow": null,
            "grid_area": null,
            "grid_template_columns": null,
            "flex": null,
            "_model_name": "LayoutModel",
            "justify_items": null,
            "grid_row": null,
            "max_height": null,
            "align_content": null,
            "visibility": null,
            "align_self": null,
            "height": null,
            "min_height": null,
            "padding": null,
            "grid_auto_rows": null,
            "grid_gap": null,
            "max_width": null,
            "order": null,
            "_view_module_version": "1.2.0",
            "grid_template_areas": null,
            "object_position": null,
            "object_fit": null,
            "grid_auto_columns": null,
            "margin": null,
            "display": null,
            "left": null
          }
        },
        "5fa7c7651696492796a8af4139e44542": {
          "model_module": "@jupyter-widgets/controls",
          "model_name": "HBoxModel",
          "state": {
            "_view_name": "HBoxView",
            "_dom_classes": [],
            "_model_name": "HBoxModel",
            "_view_module": "@jupyter-widgets/controls",
            "_model_module_version": "1.5.0",
            "_view_count": null,
            "_view_module_version": "1.5.0",
            "box_style": "",
            "layout": "IPY_MODEL_ce0dde742c1947dfaa9f0db5f339d706",
            "_model_module": "@jupyter-widgets/controls",
            "children": [
              "IPY_MODEL_04a685fa513c4d81927bbb9eea831dea",
              "IPY_MODEL_28d7e2ad82564192a1b833dca4ce428f"
            ]
          }
        },
        "ce0dde742c1947dfaa9f0db5f339d706": {
          "model_module": "@jupyter-widgets/base",
          "model_name": "LayoutModel",
          "state": {
            "_view_name": "LayoutView",
            "grid_template_rows": null,
            "right": null,
            "justify_content": null,
            "_view_module": "@jupyter-widgets/base",
            "overflow": null,
            "_model_module_version": "1.2.0",
            "_view_count": null,
            "flex_flow": null,
            "width": null,
            "min_width": null,
            "border": null,
            "align_items": null,
            "bottom": null,
            "_model_module": "@jupyter-widgets/base",
            "top": null,
            "grid_column": null,
            "overflow_y": null,
            "overflow_x": null,
            "grid_auto_flow": null,
            "grid_area": null,
            "grid_template_columns": null,
            "flex": null,
            "_model_name": "LayoutModel",
            "justify_items": null,
            "grid_row": null,
            "max_height": null,
            "align_content": null,
            "visibility": null,
            "align_self": null,
            "height": null,
            "min_height": null,
            "padding": null,
            "grid_auto_rows": null,
            "grid_gap": null,
            "max_width": null,
            "order": null,
            "_view_module_version": "1.2.0",
            "grid_template_areas": null,
            "object_position": null,
            "object_fit": null,
            "grid_auto_columns": null,
            "margin": null,
            "display": null,
            "left": null
          }
        },
        "04a685fa513c4d81927bbb9eea831dea": {
          "model_module": "@jupyter-widgets/controls",
          "model_name": "FloatProgressModel",
          "state": {
            "_view_name": "ProgressView",
            "style": "IPY_MODEL_121ada22859f49a18d246f3fa4936802",
            "_dom_classes": [],
            "description": "",
            "_model_name": "FloatProgressModel",
            "bar_style": "info",
            "max": 1,
            "_view_module": "@jupyter-widgets/controls",
            "_model_module_version": "1.5.0",
            "value": 1,
            "_view_count": null,
            "_view_module_version": "1.5.0",
            "orientation": "horizontal",
            "min": 0,
            "description_tooltip": null,
            "_model_module": "@jupyter-widgets/controls",
            "layout": "IPY_MODEL_db28f5f1d6dd4766b054155a6c8daeaf"
          }
        },
        "28d7e2ad82564192a1b833dca4ce428f": {
          "model_module": "@jupyter-widgets/controls",
          "model_name": "HTMLModel",
          "state": {
            "_view_name": "HTMLView",
            "style": "IPY_MODEL_bc6f91f918f04855aaed7b49c16680e3",
            "_dom_classes": [],
            "description": "",
            "_model_name": "HTMLModel",
            "placeholder": "​",
            "_view_module": "@jupyter-widgets/controls",
            "_model_module_version": "1.5.0",
            "value": " 4423680/? [00:17&lt;00:00, 1024750.20it/s]",
            "_view_count": null,
            "_view_module_version": "1.5.0",
            "description_tooltip": null,
            "_model_module": "@jupyter-widgets/controls",
            "layout": "IPY_MODEL_c2f36533ab154d33be1b5fe060506186"
          }
        },
        "121ada22859f49a18d246f3fa4936802": {
          "model_module": "@jupyter-widgets/controls",
          "model_name": "ProgressStyleModel",
          "state": {
            "_view_name": "StyleView",
            "_model_name": "ProgressStyleModel",
            "description_width": "initial",
            "_view_module": "@jupyter-widgets/base",
            "_model_module_version": "1.5.0",
            "_view_count": null,
            "_view_module_version": "1.2.0",
            "bar_color": null,
            "_model_module": "@jupyter-widgets/controls"
          }
        },
        "db28f5f1d6dd4766b054155a6c8daeaf": {
          "model_module": "@jupyter-widgets/base",
          "model_name": "LayoutModel",
          "state": {
            "_view_name": "LayoutView",
            "grid_template_rows": null,
            "right": null,
            "justify_content": null,
            "_view_module": "@jupyter-widgets/base",
            "overflow": null,
            "_model_module_version": "1.2.0",
            "_view_count": null,
            "flex_flow": null,
            "width": null,
            "min_width": null,
            "border": null,
            "align_items": null,
            "bottom": null,
            "_model_module": "@jupyter-widgets/base",
            "top": null,
            "grid_column": null,
            "overflow_y": null,
            "overflow_x": null,
            "grid_auto_flow": null,
            "grid_area": null,
            "grid_template_columns": null,
            "flex": null,
            "_model_name": "LayoutModel",
            "justify_items": null,
            "grid_row": null,
            "max_height": null,
            "align_content": null,
            "visibility": null,
            "align_self": null,
            "height": null,
            "min_height": null,
            "padding": null,
            "grid_auto_rows": null,
            "grid_gap": null,
            "max_width": null,
            "order": null,
            "_view_module_version": "1.2.0",
            "grid_template_areas": null,
            "object_position": null,
            "object_fit": null,
            "grid_auto_columns": null,
            "margin": null,
            "display": null,
            "left": null
          }
        },
        "bc6f91f918f04855aaed7b49c16680e3": {
          "model_module": "@jupyter-widgets/controls",
          "model_name": "DescriptionStyleModel",
          "state": {
            "_view_name": "StyleView",
            "_model_name": "DescriptionStyleModel",
            "description_width": "",
            "_view_module": "@jupyter-widgets/base",
            "_model_module_version": "1.5.0",
            "_view_count": null,
            "_view_module_version": "1.2.0",
            "_model_module": "@jupyter-widgets/controls"
          }
        },
        "c2f36533ab154d33be1b5fe060506186": {
          "model_module": "@jupyter-widgets/base",
          "model_name": "LayoutModel",
          "state": {
            "_view_name": "LayoutView",
            "grid_template_rows": null,
            "right": null,
            "justify_content": null,
            "_view_module": "@jupyter-widgets/base",
            "overflow": null,
            "_model_module_version": "1.2.0",
            "_view_count": null,
            "flex_flow": null,
            "width": null,
            "min_width": null,
            "border": null,
            "align_items": null,
            "bottom": null,
            "_model_module": "@jupyter-widgets/base",
            "top": null,
            "grid_column": null,
            "overflow_y": null,
            "overflow_x": null,
            "grid_auto_flow": null,
            "grid_area": null,
            "grid_template_columns": null,
            "flex": null,
            "_model_name": "LayoutModel",
            "justify_items": null,
            "grid_row": null,
            "max_height": null,
            "align_content": null,
            "visibility": null,
            "align_self": null,
            "height": null,
            "min_height": null,
            "padding": null,
            "grid_auto_rows": null,
            "grid_gap": null,
            "max_width": null,
            "order": null,
            "_view_module_version": "1.2.0",
            "grid_template_areas": null,
            "object_position": null,
            "object_fit": null,
            "grid_auto_columns": null,
            "margin": null,
            "display": null,
            "left": null
          }
        },
        "0d9f59d64cf8457da5bdaafbb2628b76": {
          "model_module": "@jupyter-widgets/controls",
          "model_name": "HBoxModel",
          "state": {
            "_view_name": "HBoxView",
            "_dom_classes": [],
            "_model_name": "HBoxModel",
            "_view_module": "@jupyter-widgets/controls",
            "_model_module_version": "1.5.0",
            "_view_count": null,
            "_view_module_version": "1.5.0",
            "box_style": "",
            "layout": "IPY_MODEL_47e594e18c084744b11e20437bdc54bb",
            "_model_module": "@jupyter-widgets/controls",
            "children": [
              "IPY_MODEL_d3ac01ba940a4af9a78b18ee19d39340",
              "IPY_MODEL_e081fe47551849cb99ac903b26d5a5f9"
            ]
          }
        },
        "47e594e18c084744b11e20437bdc54bb": {
          "model_module": "@jupyter-widgets/base",
          "model_name": "LayoutModel",
          "state": {
            "_view_name": "LayoutView",
            "grid_template_rows": null,
            "right": null,
            "justify_content": null,
            "_view_module": "@jupyter-widgets/base",
            "overflow": null,
            "_model_module_version": "1.2.0",
            "_view_count": null,
            "flex_flow": null,
            "width": null,
            "min_width": null,
            "border": null,
            "align_items": null,
            "bottom": null,
            "_model_module": "@jupyter-widgets/base",
            "top": null,
            "grid_column": null,
            "overflow_y": null,
            "overflow_x": null,
            "grid_auto_flow": null,
            "grid_area": null,
            "grid_template_columns": null,
            "flex": null,
            "_model_name": "LayoutModel",
            "justify_items": null,
            "grid_row": null,
            "max_height": null,
            "align_content": null,
            "visibility": null,
            "align_self": null,
            "height": null,
            "min_height": null,
            "padding": null,
            "grid_auto_rows": null,
            "grid_gap": null,
            "max_width": null,
            "order": null,
            "_view_module_version": "1.2.0",
            "grid_template_areas": null,
            "object_position": null,
            "object_fit": null,
            "grid_auto_columns": null,
            "margin": null,
            "display": null,
            "left": null
          }
        },
        "d3ac01ba940a4af9a78b18ee19d39340": {
          "model_module": "@jupyter-widgets/controls",
          "model_name": "FloatProgressModel",
          "state": {
            "_view_name": "ProgressView",
            "style": "IPY_MODEL_8428e36cd036440e9c8c84df717665f8",
            "_dom_classes": [],
            "description": "",
            "_model_name": "FloatProgressModel",
            "bar_style": "success",
            "max": 1,
            "_view_module": "@jupyter-widgets/controls",
            "_model_module_version": "1.5.0",
            "value": 1,
            "_view_count": null,
            "_view_module_version": "1.5.0",
            "orientation": "horizontal",
            "min": 0,
            "description_tooltip": null,
            "_model_module": "@jupyter-widgets/controls",
            "layout": "IPY_MODEL_40b8151d21ac43a3874dea5d8e906dc0"
          }
        },
        "e081fe47551849cb99ac903b26d5a5f9": {
          "model_module": "@jupyter-widgets/controls",
          "model_name": "HTMLModel",
          "state": {
            "_view_name": "HTMLView",
            "style": "IPY_MODEL_7f3e64436fd64f90bba3bf423ac508dd",
            "_dom_classes": [],
            "description": "",
            "_model_name": "HTMLModel",
            "placeholder": "​",
            "_view_module": "@jupyter-widgets/controls",
            "_model_module_version": "1.5.0",
            "value": " 8192/? [00:00&lt;00:00, 13166.96it/s]",
            "_view_count": null,
            "_view_module_version": "1.5.0",
            "description_tooltip": null,
            "_model_module": "@jupyter-widgets/controls",
            "layout": "IPY_MODEL_f2d645f494e149598bd60be9c1f20a92"
          }
        },
        "8428e36cd036440e9c8c84df717665f8": {
          "model_module": "@jupyter-widgets/controls",
          "model_name": "ProgressStyleModel",
          "state": {
            "_view_name": "StyleView",
            "_model_name": "ProgressStyleModel",
            "description_width": "initial",
            "_view_module": "@jupyter-widgets/base",
            "_model_module_version": "1.5.0",
            "_view_count": null,
            "_view_module_version": "1.2.0",
            "bar_color": null,
            "_model_module": "@jupyter-widgets/controls"
          }
        },
        "40b8151d21ac43a3874dea5d8e906dc0": {
          "model_module": "@jupyter-widgets/base",
          "model_name": "LayoutModel",
          "state": {
            "_view_name": "LayoutView",
            "grid_template_rows": null,
            "right": null,
            "justify_content": null,
            "_view_module": "@jupyter-widgets/base",
            "overflow": null,
            "_model_module_version": "1.2.0",
            "_view_count": null,
            "flex_flow": null,
            "width": null,
            "min_width": null,
            "border": null,
            "align_items": null,
            "bottom": null,
            "_model_module": "@jupyter-widgets/base",
            "top": null,
            "grid_column": null,
            "overflow_y": null,
            "overflow_x": null,
            "grid_auto_flow": null,
            "grid_area": null,
            "grid_template_columns": null,
            "flex": null,
            "_model_name": "LayoutModel",
            "justify_items": null,
            "grid_row": null,
            "max_height": null,
            "align_content": null,
            "visibility": null,
            "align_self": null,
            "height": null,
            "min_height": null,
            "padding": null,
            "grid_auto_rows": null,
            "grid_gap": null,
            "max_width": null,
            "order": null,
            "_view_module_version": "1.2.0",
            "grid_template_areas": null,
            "object_position": null,
            "object_fit": null,
            "grid_auto_columns": null,
            "margin": null,
            "display": null,
            "left": null
          }
        },
        "7f3e64436fd64f90bba3bf423ac508dd": {
          "model_module": "@jupyter-widgets/controls",
          "model_name": "DescriptionStyleModel",
          "state": {
            "_view_name": "StyleView",
            "_model_name": "DescriptionStyleModel",
            "description_width": "",
            "_view_module": "@jupyter-widgets/base",
            "_model_module_version": "1.5.0",
            "_view_count": null,
            "_view_module_version": "1.2.0",
            "_model_module": "@jupyter-widgets/controls"
          }
        },
        "f2d645f494e149598bd60be9c1f20a92": {
          "model_module": "@jupyter-widgets/base",
          "model_name": "LayoutModel",
          "state": {
            "_view_name": "LayoutView",
            "grid_template_rows": null,
            "right": null,
            "justify_content": null,
            "_view_module": "@jupyter-widgets/base",
            "overflow": null,
            "_model_module_version": "1.2.0",
            "_view_count": null,
            "flex_flow": null,
            "width": null,
            "min_width": null,
            "border": null,
            "align_items": null,
            "bottom": null,
            "_model_module": "@jupyter-widgets/base",
            "top": null,
            "grid_column": null,
            "overflow_y": null,
            "overflow_x": null,
            "grid_auto_flow": null,
            "grid_area": null,
            "grid_template_columns": null,
            "flex": null,
            "_model_name": "LayoutModel",
            "justify_items": null,
            "grid_row": null,
            "max_height": null,
            "align_content": null,
            "visibility": null,
            "align_self": null,
            "height": null,
            "min_height": null,
            "padding": null,
            "grid_auto_rows": null,
            "grid_gap": null,
            "max_width": null,
            "order": null,
            "_view_module_version": "1.2.0",
            "grid_template_areas": null,
            "object_position": null,
            "object_fit": null,
            "grid_auto_columns": null,
            "margin": null,
            "display": null,
            "left": null
          }
        }
      }
    }
  },
  "cells": [
    {
      "cell_type": "markdown",
      "metadata": {
        "id": "view-in-github",
        "colab_type": "text"
      },
      "source": [
        "<a href=\"https://colab.research.google.com/github/fardil-b/DL-PyTorch/blob/main/Validation.ipynb\" target=\"_parent\"><img src=\"https://colab.research.google.com/assets/colab-badge.svg\" alt=\"Open In Colab\"/></a>"
      ]
    },
    {
      "cell_type": "markdown",
      "metadata": {
        "id": "gXmCHcwKs6rd"
      },
      "source": [
        "# Validation"
      ]
    },
    {
      "cell_type": "code",
      "metadata": {
        "id": "PzCCniVwNTdp"
      },
      "source": [
        "# Setting seeds to try and ensure we have the same results - this is not guaranteed across PyTorch releases.\n",
        "import torch\n",
        "torch.manual_seed(0)\n",
        "torch.backends.cudnn.deterministic = True\n",
        "torch.backends.cudnn.benchmark = False\n",
        "\n",
        "import numpy as np\n",
        "np.random.seed(0)"
      ],
      "execution_count": 1,
      "outputs": []
    },
    {
      "cell_type": "code",
      "metadata": {
        "id": "PCJzXv0OK1Bs",
        "colab": {
          "base_uri": "https://localhost:8080/",
          "height": 403,
          "referenced_widgets": [
            "b029b0db96784cc1b88f59e775d966da",
            "05456996cbb54174b7563798543b7eab",
            "7f8879be4ed448508dc7958f97137863",
            "8962197ad70649bfa1f246376c11b05d",
            "df1a48d6ec7b4606bb69944183ad730f",
            "f6bb345a68d4464797f37f40c23e9136",
            "6ae64242627a430fbdabe562fdb887f1",
            "5b2ef9ffb05e4e9a9f1b4134d2bdcfa4",
            "3100c462d73c435884e0f67cc0079342",
            "3bb22acf3e4c4475951e709b2183a451",
            "927855a3193f4456989f63068299c56a",
            "d44813be40114b359412d1abb7bd2836",
            "c5d1037debd3490d80ffcdfcbfc91fea",
            "34055d9468444fc4b85df674e6722941",
            "5c7355f5d251447c8abdf5abadc1a0a5",
            "94e881fd940a489e9eeda5f593bfe96c",
            "5fa7c7651696492796a8af4139e44542",
            "ce0dde742c1947dfaa9f0db5f339d706",
            "04a685fa513c4d81927bbb9eea831dea",
            "28d7e2ad82564192a1b833dca4ce428f",
            "121ada22859f49a18d246f3fa4936802",
            "db28f5f1d6dd4766b054155a6c8daeaf",
            "bc6f91f918f04855aaed7b49c16680e3",
            "c2f36533ab154d33be1b5fe060506186",
            "0d9f59d64cf8457da5bdaafbb2628b76",
            "47e594e18c084744b11e20437bdc54bb",
            "d3ac01ba940a4af9a78b18ee19d39340",
            "e081fe47551849cb99ac903b26d5a5f9",
            "8428e36cd036440e9c8c84df717665f8",
            "40b8151d21ac43a3874dea5d8e906dc0",
            "7f3e64436fd64f90bba3bf423ac508dd",
            "f2d645f494e149598bd60be9c1f20a92"
          ]
        },
        "outputId": "86e09cc7-7b4c-4638-c7ae-44985c0a68b7"
      },
      "source": [
        "from torchvision import datasets, transforms\n",
        "import torch.nn.functional as F\n",
        "from torch import nn\n",
        "\n",
        "mean, std = (0.5,), (0.5,)\n",
        "\n",
        "# Create a transform and normalise data\n",
        "transform = transforms.Compose([transforms.ToTensor(),\n",
        "                                transforms.Normalize(mean, std)\n",
        "                              ])\n",
        "\n",
        "# Download FMNIST training dataset and load training data\n",
        "trainset = datasets.FashionMNIST('~/.pytorch/FMNIST/', download=True, train=True, transform=transform)\n",
        "trainloader = torch.utils.data.DataLoader(trainset, batch_size=64, shuffle=True)\n",
        "\n",
        "# Download FMNIST test dataset and load test data\n",
        "testset = datasets.FashionMNIST('~/.pytorch/FMNIST/', download=True, train=False, transform=transform)\n",
        "testloader = torch.utils.data.DataLoader(testset, batch_size=64, shuffle=False)"
      ],
      "execution_count": 2,
      "outputs": [
        {
          "output_type": "stream",
          "text": [
            "Downloading http://fashion-mnist.s3-website.eu-central-1.amazonaws.com/train-images-idx3-ubyte.gz to /root/.pytorch/FMNIST/FashionMNIST/raw/train-images-idx3-ubyte.gz\n"
          ],
          "name": "stdout"
        },
        {
          "output_type": "display_data",
          "data": {
            "application/vnd.jupyter.widget-view+json": {
              "model_id": "b029b0db96784cc1b88f59e775d966da",
              "version_minor": 0,
              "version_major": 2
            },
            "text/plain": [
              "HBox(children=(FloatProgress(value=1.0, bar_style='info', max=1.0), HTML(value='')))"
            ]
          },
          "metadata": {
            "tags": []
          }
        },
        {
          "output_type": "stream",
          "text": [
            "Extracting /root/.pytorch/FMNIST/FashionMNIST/raw/train-images-idx3-ubyte.gz to /root/.pytorch/FMNIST/FashionMNIST/raw\n",
            "Downloading http://fashion-mnist.s3-website.eu-central-1.amazonaws.com/train-labels-idx1-ubyte.gz to /root/.pytorch/FMNIST/FashionMNIST/raw/train-labels-idx1-ubyte.gz\n"
          ],
          "name": "stdout"
        },
        {
          "output_type": "display_data",
          "data": {
            "application/vnd.jupyter.widget-view+json": {
              "model_id": "3100c462d73c435884e0f67cc0079342",
              "version_minor": 0,
              "version_major": 2
            },
            "text/plain": [
              "HBox(children=(FloatProgress(value=1.0, bar_style='info', max=1.0), HTML(value='')))"
            ]
          },
          "metadata": {
            "tags": []
          }
        },
        {
          "output_type": "stream",
          "text": [
            "Extracting /root/.pytorch/FMNIST/FashionMNIST/raw/train-labels-idx1-ubyte.gz to /root/.pytorch/FMNIST/FashionMNIST/raw\n",
            "Downloading http://fashion-mnist.s3-website.eu-central-1.amazonaws.com/t10k-images-idx3-ubyte.gz to /root/.pytorch/FMNIST/FashionMNIST/raw/t10k-images-idx3-ubyte.gz\n",
            "\n",
            "\n"
          ],
          "name": "stdout"
        },
        {
          "output_type": "display_data",
          "data": {
            "application/vnd.jupyter.widget-view+json": {
              "model_id": "5fa7c7651696492796a8af4139e44542",
              "version_minor": 0,
              "version_major": 2
            },
            "text/plain": [
              "HBox(children=(FloatProgress(value=1.0, bar_style='info', max=1.0), HTML(value='')))"
            ]
          },
          "metadata": {
            "tags": []
          }
        },
        {
          "output_type": "stream",
          "text": [
            "Extracting /root/.pytorch/FMNIST/FashionMNIST/raw/t10k-images-idx3-ubyte.gz to /root/.pytorch/FMNIST/FashionMNIST/raw\n",
            "Downloading http://fashion-mnist.s3-website.eu-central-1.amazonaws.com/t10k-labels-idx1-ubyte.gz to /root/.pytorch/FMNIST/FashionMNIST/raw/t10k-labels-idx1-ubyte.gz\n"
          ],
          "name": "stdout"
        },
        {
          "output_type": "display_data",
          "data": {
            "application/vnd.jupyter.widget-view+json": {
              "model_id": "0d9f59d64cf8457da5bdaafbb2628b76",
              "version_minor": 0,
              "version_major": 2
            },
            "text/plain": [
              "HBox(children=(FloatProgress(value=1.0, bar_style='info', max=1.0), HTML(value='')))"
            ]
          },
          "metadata": {
            "tags": []
          }
        },
        {
          "output_type": "stream",
          "text": [
            "Extracting /root/.pytorch/FMNIST/FashionMNIST/raw/t10k-labels-idx1-ubyte.gz to /root/.pytorch/FMNIST/FashionMNIST/raw\n",
            "Processing...\n",
            "Done!\n"
          ],
          "name": "stdout"
        },
        {
          "output_type": "stream",
          "text": [
            "/usr/local/lib/python3.6/dist-packages/torchvision/datasets/mnist.py:480: UserWarning: The given NumPy array is not writeable, and PyTorch does not support non-writeable tensors. This means you can write to the underlying (supposedly non-writeable) NumPy array using the tensor. You may want to copy the array to protect its data or make it writeable before converting it to a tensor. This type of warning will be suppressed for the rest of this program. (Triggered internally at  /pytorch/torch/csrc/utils/tensor_numpy.cpp:141.)\n",
            "  return torch.from_numpy(parsed.astype(m[2], copy=False)).view(*s)\n"
          ],
          "name": "stderr"
        }
      ]
    },
    {
      "cell_type": "code",
      "metadata": {
        "id": "rqMqFbIVrbFH"
      },
      "source": [
        "class FMNIST(nn.Module):\n",
        "  def __init__(self):\n",
        "    super().__init__()\n",
        "    self.fc1 = nn.Linear(784, 128)\n",
        "    self.fc2 = nn.Linear(128,64)\n",
        "    self.fc3 = nn.Linear(64,10)\n",
        "    \n",
        "  def forward(self, x):\n",
        "    x = x.view(x.shape[0], -1)\n",
        "    \n",
        "    x = F.relu(self.fc1(x))\n",
        "    x = F.relu(self.fc2(x))\n",
        "    x = self.fc3(x)\n",
        "    x = F.log_softmax(x, dim=1)\n",
        "    \n",
        "    return x\n",
        "\n",
        "model = FMNIST()"
      ],
      "execution_count": 3,
      "outputs": []
    },
    {
      "cell_type": "code",
      "metadata": {
        "id": "oNNyI5YRZ7H1",
        "colab": {
          "base_uri": "https://localhost:8080/"
        },
        "outputId": "7195becc-7990-41d1-e495-ddbe94f24975"
      },
      "source": [
        "from torch import optim\n",
        "\n",
        "criterion = nn.NLLLoss()\n",
        "optimizer = optim.SGD(model.parameters(), lr=0.01)\n",
        "\n",
        "num_epochs = 3\n",
        "\n",
        "for i in range(num_epochs):\n",
        "    cum_loss = 0\n",
        "\n",
        "    for images, labels in trainloader:\n",
        "        optimizer.zero_grad()\n",
        "        output = model(images)\n",
        "        loss = criterion(output, labels)\n",
        "        loss.backward()\n",
        "        optimizer.step()\n",
        "        \n",
        "        cum_loss += loss.item()\n",
        "     \n",
        "    print(f\"Training loss: {cum_loss/len(trainloader)}\")"
      ],
      "execution_count": 4,
      "outputs": [
        {
          "output_type": "stream",
          "text": [
            "\n",
            "Training loss: 1.033817462257739\n",
            "Training loss: 0.5608075980120885\n",
            "Training loss: 0.49144349259926057\n"
          ],
          "name": "stdout"
        }
      ]
    },
    {
      "cell_type": "code",
      "metadata": {
        "id": "UWYw7ZOzsS8U"
      },
      "source": [
        "import matplotlib.pyplot as plt\n",
        "%matplotlib inline\n",
        "\n",
        "images, labels = next(iter(testloader))\n",
        "\n",
        "test_image_id = 0 \n",
        "img = images[test_image_id].view(1, 784) \n",
        "\n",
        "with torch.no_grad():\n",
        "    logps = model(img)"
      ],
      "execution_count": 5,
      "outputs": []
    },
    {
      "cell_type": "code",
      "metadata": {
        "id": "2tRjoEDSqY8X",
        "colab": {
          "base_uri": "https://localhost:8080/"
        },
        "outputId": "740db94b-88cc-41c2-d37f-e26a949f8feb"
      },
      "source": [
        "ps = torch.exp(logps)\n",
        "ps"
      ],
      "execution_count": 6,
      "outputs": [
        {
          "output_type": "execute_result",
          "data": {
            "text/plain": [
              "tensor([[1.4947e-06, 5.2072e-07, 8.4638e-06, 8.7572e-07, 5.9631e-06, 1.9034e-01,\n",
              "         4.8128e-06, 1.6186e-01, 4.4024e-03, 6.4337e-01]])"
            ]
          },
          "metadata": {
            "tags": []
          },
          "execution_count": 6
        }
      ]
    },
    {
      "cell_type": "code",
      "metadata": {
        "id": "dpP_RLV-qkc6",
        "colab": {
          "base_uri": "https://localhost:8080/"
        },
        "outputId": "71eebef9-eaf1-48f4-ae19-ca8fcfe7bcd8"
      },
      "source": [
        "nps = ps.numpy()[0]\n",
        "nps"
      ],
      "execution_count": 7,
      "outputs": [
        {
          "output_type": "execute_result",
          "data": {
            "text/plain": [
              "array([1.4946592e-06, 5.2071726e-07, 8.4638323e-06, 8.7571510e-07,\n",
              "       5.9630970e-06, 1.9034284e-01, 4.8128109e-06, 1.6185869e-01,\n",
              "       4.4023544e-03, 6.4337403e-01], dtype=float32)"
            ]
          },
          "metadata": {
            "tags": []
          },
          "execution_count": 7
        }
      ]
    },
    {
      "cell_type": "code",
      "metadata": {
        "id": "kBf23XrtqrB6",
        "colab": {
          "base_uri": "https://localhost:8080/",
          "height": 332
        },
        "outputId": "b83fcb8a-6683-4dbe-d88b-a2210ade628b"
      },
      "source": [
        "FMNIST_labels = ['T-shirt/top','Trouser','Pullover','Dress','Coat','Sandal','Shirt','Sport Shoes','Bag','Ankle Boots']\n",
        "plt.xticks(np.arange(10),labels=FMNIST_labels,rotation='vertical')\n",
        "plt.bar(np.arange(10), nps)"
      ],
      "execution_count": 8,
      "outputs": [
        {
          "output_type": "execute_result",
          "data": {
            "text/plain": [
              "<BarContainer object of 10 artists>"
            ]
          },
          "metadata": {
            "tags": []
          },
          "execution_count": 8
        },
        {
          "output_type": "display_data",
          "data": {
            "image/png": "[encoded data removed]",
            "text/plain": [
              "<Figure size 432x288 with 1 Axes>"
            ]
          },
          "metadata": {
            "tags": [],
            "needs_background": "light"
          }
        }
      ]
    },
    {
      "cell_type": "code",
      "metadata": {
        "id": "Y7gY5hARpOp4",
        "colab": {
          "base_uri": "https://localhost:8080/",
          "height": 282
        },
        "outputId": "fa8a7471-a45e-4505-8bab-f5910059e95d"
      },
      "source": [
        "def denormalize(tensor):\n",
        "  tensor = tensor*0.5 + 0.5\n",
        "  return tensor\n",
        "  \n",
        "img = img.view(28,-1)\n",
        "img = denormalize(img)\n",
        "plt.imshow(img,cmap='gray')"
      ],
      "execution_count": 9,
      "outputs": [
        {
          "output_type": "execute_result",
          "data": {
            "text/plain": [
              "<matplotlib.image.AxesImage at 0x7f75a52636d8>"
            ]
          },
          "metadata": {
            "tags": []
          },
          "execution_count": 9
        },
        {
          "output_type": "display_data",
          "data": {
            "image/png": "[encoded data removed]",
            "text/plain": [
              "<Figure size 432x288 with 1 Axes>"
            ]
          },
          "metadata": {
            "tags": [],
            "needs_background": "light"
          }
        }
      ]
    },
    {
      "cell_type": "markdown",
      "metadata": {
        "id": "oPBS80CW00pk"
      },
      "source": [
        "we don't need to calculate any gradients, so let's do all this code within a torch no grad clause. We use the num correct variable to store the numbers where the predictions match the labels, and the total variable will track the number of images that we're testing. So we get the images and the labels from the test loader, and then what we do next is to do a forward pass through the model, and the predictions are stored in logps. Now remember that these are log values, so we need to use the exponent if we want to convert to a probability. Now we just want to make sure that everything's running okay for this batch of code, so I'll quit after just one pass by setting the condition: if count is greater than zero break. So let's run this cell of code and make sure everything's running as expected."
      ]
    },
    {
      "cell_type": "code",
      "metadata": {
        "id": "AxTiil7cXOAz",
        "colab": {
          "base_uri": "https://localhost:8080/"
        },
        "outputId": "264bd017-0f7a-43ab-9819-d43409cf165b"
      },
      "source": [
        "with torch.no_grad():\n",
        "    num_correct = 0\n",
        "    total = 0\n",
        "\n",
        "    cnt = 0\n",
        "    for images, labels in testloader:\n",
        "        \n",
        "        logps = model(images)\n",
        "        output = torch.exp(logps)\n",
        "        print(output)\n",
        "        cnt+=1\n",
        "        \n",
        "        if cnt > 0:\n",
        "          break"
      ],
      "execution_count": 10,
      "outputs": [
        {
          "output_type": "stream",
          "text": [
            "tensor([[1.4947e-06, 5.2072e-07, 8.4638e-06, 8.7571e-07, 5.9631e-06, 1.9034e-01,\n",
            "         4.8128e-06, 1.6186e-01, 4.4024e-03, 6.4337e-01],\n",
            "        [1.2067e-03, 4.7048e-05, 9.0751e-01, 1.9039e-04, 2.3424e-02, 1.1187e-05,\n",
            "         6.6476e-02, 9.6473e-09, 1.1335e-03, 5.0377e-07],\n",
            "        [1.1540e-05, 9.9983e-01, 2.9400e-05, 7.5093e-05, 5.5653e-05, 2.3286e-08,\n",
            "         1.2187e-07, 4.7031e-07, 4.6748e-09, 9.1012e-09],\n",
            "        [3.1344e-06, 9.9961e-01, 3.7278e-05, 3.0628e-04, 3.7186e-05, 1.6289e-07,\n",
            "         9.5941e-08, 1.9733e-06, 9.4796e-09, 5.4921e-08],\n",
            "        [1.1126e-01, 6.7339e-04, 1.7977e-01, 1.2636e-02, 1.5384e-02, 3.0360e-04,\n",
            "         6.6952e-01, 1.5382e-06, 1.0434e-02, 1.5013e-05],\n",
            "        [1.5503e-03, 9.8686e-01, 9.0931e-04, 1.9430e-03, 8.6355e-03, 5.6853e-07,\n",
            "         9.2265e-05, 4.3993e-06, 1.5506e-06, 2.6347e-07],\n",
            "        [1.0754e-02, 1.0587e-03, 5.5130e-02, 6.6391e-04, 7.9257e-01, 1.1842e-04,\n",
            "         1.3782e-01, 7.7874e-07, 1.8809e-03, 1.2034e-06],\n",
            "        [5.7285e-03, 3.9014e-04, 9.4747e-02, 2.3213e-03, 2.1678e-01, 5.0464e-04,\n",
            "         6.6439e-01, 7.3863e-07, 1.5131e-02, 7.2005e-06],\n",
            "        [1.0643e-02, 3.8043e-03, 2.3924e-02, 1.5297e-02, 6.4694e-03, 7.9879e-01,\n",
            "         1.2887e-02, 1.0098e-01, 2.5556e-02, 1.6522e-03],\n",
            "        [1.6554e-05, 1.2767e-05, 2.0620e-05, 3.9520e-05, 5.6487e-05, 3.1127e-02,\n",
            "         1.2691e-05, 9.6319e-01, 1.9723e-03, 3.5527e-03],\n",
            "        [6.5047e-04, 1.3015e-02, 3.4698e-01, 1.0028e-03, 5.8628e-01, 5.3129e-05,\n",
            "         5.1723e-02, 3.1888e-07, 2.8830e-04, 4.1053e-06],\n",
            "        [6.7656e-05, 3.4683e-05, 7.8287e-04, 3.9119e-05, 3.1774e-04, 8.4106e-01,\n",
            "         2.5903e-04, 7.8337e-02, 1.2064e-02, 6.7043e-02],\n",
            "        [2.3942e-04, 1.5068e-04, 2.6176e-03, 1.3397e-03, 1.7201e-03, 8.6480e-01,\n",
            "         7.4577e-04, 5.1854e-02, 7.5255e-02, 1.2775e-03],\n",
            "        [1.8580e-03, 4.6100e-03, 2.6163e-04, 9.9066e-01, 2.5252e-04, 5.7632e-06,\n",
            "         2.7951e-04, 1.3536e-03, 6.9123e-04, 2.8138e-05],\n",
            "        [3.6848e-04, 9.5969e-05, 1.9046e-02, 9.3182e-04, 9.0630e-01, 7.6582e-06,\n",
            "         6.2017e-02, 2.8098e-07, 1.1231e-02, 2.5867e-06],\n",
            "        [2.1473e-04, 9.8771e-01, 5.7157e-04, 1.0922e-02, 5.5409e-04, 9.2522e-07,\n",
            "         1.4685e-05, 1.1904e-05, 6.1395e-07, 5.6414e-07],\n",
            "        [7.3600e-02, 9.7368e-03, 7.3515e-01, 4.7202e-03, 3.1597e-02, 6.1110e-04,\n",
            "         1.4337e-01, 1.1486e-06, 1.2135e-03, 6.7421e-06],\n",
            "        [2.2852e-02, 2.1098e-04, 2.7491e-01, 2.0879e-03, 2.0137e-01, 6.3709e-05,\n",
            "         4.8154e-01, 3.3051e-07, 1.6958e-02, 5.3864e-06],\n",
            "        [3.1736e-04, 3.6092e-06, 2.2244e-03, 3.3638e-05, 1.6202e-03, 9.4057e-03,\n",
            "         1.7718e-03, 1.1057e-03, 9.8127e-01, 2.2498e-03],\n",
            "        [9.5165e-01, 5.4615e-05, 2.8908e-03, 3.5330e-03, 8.4105e-05, 1.0896e-07,\n",
            "         4.1719e-02, 6.3456e-09, 6.4037e-05, 1.3663e-08],\n",
            "        [3.9852e-01, 1.1883e-02, 2.4746e-01, 2.5154e-02, 3.5506e-02, 1.4455e-03,\n",
            "         2.5956e-01, 7.8908e-05, 1.9847e-02, 5.4619e-04],\n",
            "        [2.8534e-05, 7.1798e-05, 3.2564e-04, 1.3373e-04, 4.1264e-04, 5.3367e-01,\n",
            "         6.3545e-05, 4.4671e-01, 1.2263e-02, 6.3222e-03],\n",
            "        [7.9022e-08, 5.0359e-07, 9.2242e-07, 6.7272e-07, 2.4418e-06, 2.3833e-02,\n",
            "         1.0515e-07, 9.5570e-01, 6.5908e-04, 1.9799e-02],\n",
            "        [5.2579e-06, 4.2192e-06, 1.8918e-05, 6.3939e-06, 1.3733e-05, 4.0577e-01,\n",
            "         4.6081e-06, 5.0825e-01, 2.0223e-03, 8.3906e-02],\n",
            "        [3.4814e-06, 9.9971e-01, 2.0490e-05, 2.3508e-04, 2.9038e-05, 1.8743e-07,\n",
            "         5.9065e-08, 3.9698e-06, 1.0628e-08, 5.0763e-08],\n",
            "        [5.5953e-03, 2.7550e-03, 7.9573e-01, 1.0131e-02, 5.4947e-02, 3.9421e-03,\n",
            "         1.1700e-01, 4.1968e-06, 9.8917e-03, 1.1284e-05],\n",
            "        [1.1450e-03, 9.5682e-05, 9.2223e-02, 5.1800e-04, 4.1897e-01, 2.5554e-05,\n",
            "         4.8118e-01, 5.1519e-08, 5.8458e-03, 3.3820e-06],\n",
            "        [4.8972e-01, 1.7869e-02, 8.2303e-03, 4.2115e-01, 1.8702e-02, 3.5387e-07,\n",
            "         4.3910e-02, 3.9842e-06, 4.1321e-04, 5.8284e-07],\n",
            "        [3.0277e-07, 7.7061e-08, 1.0210e-06, 1.3478e-07, 9.9086e-07, 2.3379e-02,\n",
            "         5.8265e-07, 1.1682e-01, 2.5347e-03, 8.5726e-01],\n",
            "        [8.3557e-02, 1.5639e-03, 7.9397e-03, 2.5133e-01, 3.8125e-01, 2.3139e-06,\n",
            "         2.6111e-01, 1.1892e-05, 1.3234e-02, 3.3087e-06],\n",
            "        [3.3750e-06, 9.3408e-08, 7.1629e-05, 1.2443e-05, 3.3643e-04, 8.3464e-04,\n",
            "         1.0074e-04, 1.4831e-04, 9.9838e-01, 1.1421e-04],\n",
            "        [9.2045e-03, 1.3180e-05, 5.5419e-03, 1.7443e-02, 2.0524e-03, 8.2168e-04,\n",
            "         2.1652e-02, 4.5020e-05, 9.4319e-01, 3.7604e-05],\n",
            "        [1.3738e-02, 1.0490e-02, 7.1978e-03, 9.3450e-01, 7.5017e-03, 6.2362e-04,\n",
            "         1.1500e-02, 2.1172e-03, 1.2197e-02, 1.3574e-04],\n",
            "        [5.8093e-02, 4.9970e-04, 1.4710e-02, 8.7359e-01, 5.2932e-03, 8.0723e-07,\n",
            "         4.4191e-02, 4.3048e-06, 3.6184e-03, 5.5668e-07],\n",
            "        [2.0472e-04, 3.3019e-06, 6.0100e-03, 1.1750e-03, 9.2059e-04, 4.5853e-03,\n",
            "         2.3337e-03, 8.7709e-05, 9.8463e-01, 4.6768e-05],\n",
            "        [7.2485e-01, 4.0676e-04, 2.1762e-02, 2.3525e-02, 1.3760e-03, 4.3329e-05,\n",
            "         2.2632e-01, 1.3255e-06, 1.7153e-03, 1.3206e-06],\n",
            "        [4.0001e-06, 1.2400e-05, 6.2658e-06, 8.3814e-06, 2.9074e-05, 1.7043e-02,\n",
            "         2.8714e-06, 9.7702e-01, 4.7631e-04, 5.3978e-03],\n",
            "        [1.6221e-03, 3.1309e-04, 3.4225e-03, 1.4362e-03, 6.3613e-04, 9.5623e-01,\n",
            "         3.0916e-03, 2.6992e-02, 5.1531e-03, 1.1049e-03],\n",
            "        [2.0950e-06, 1.1305e-05, 1.1834e-05, 5.5863e-06, 5.0235e-05, 1.7187e-02,\n",
            "         2.2565e-06, 9.7657e-01, 8.4971e-04, 5.3131e-03],\n",
            "        [1.8683e-08, 3.5877e-09, 5.5845e-08, 4.0884e-09, 3.3695e-08, 2.4958e-03,\n",
            "         4.9055e-08, 7.5193e-03, 1.7957e-04, 9.8981e-01],\n",
            "        [6.5740e-01, 7.5516e-06, 1.7154e-03, 3.5672e-03, 9.3685e-04, 7.1034e-08,\n",
            "         3.3582e-01, 1.0128e-08, 5.5091e-04, 6.9897e-08],\n",
            "        [5.0392e-06, 9.9976e-01, 1.6874e-05, 1.4469e-04, 6.8459e-05, 3.6812e-08,\n",
            "         1.0837e-07, 5.8592e-06, 5.8332e-09, 1.1148e-07],\n",
            "        [2.0209e-01, 5.3292e-03, 5.5097e-02, 2.4047e-01, 2.0752e-01, 4.5397e-06,\n",
            "         2.8188e-01, 2.1064e-06, 7.6027e-03, 7.2740e-07],\n",
            "        [6.9961e-08, 2.8399e-08, 1.3103e-07, 1.3074e-08, 9.4883e-08, 1.7667e-02,\n",
            "         6.8501e-08, 1.4496e-01, 9.8979e-05, 8.3727e-01],\n",
            "        [3.5357e-03, 5.9649e-05, 1.1092e-01, 1.9962e-03, 2.2903e-01, 4.5836e-06,\n",
            "         6.5059e-01, 1.1835e-08, 3.8627e-03, 2.2098e-07],\n",
            "        [2.3759e-04, 3.3018e-05, 4.3607e-04, 9.0559e-05, 1.8795e-04, 6.7543e-01,\n",
            "         4.6152e-04, 2.1019e-01, 1.8745e-02, 9.4190e-02],\n",
            "        [2.9546e-02, 7.2607e-04, 7.3980e-01, 4.4301e-03, 2.1985e-02, 5.3662e-05,\n",
            "         2.0041e-01, 1.3742e-07, 3.0425e-03, 3.9788e-06],\n",
            "        [6.2142e-04, 9.5998e-01, 6.2259e-04, 3.7344e-02, 1.3332e-03, 5.0255e-07,\n",
            "         2.8781e-05, 6.3139e-05, 1.8474e-06, 1.6160e-06],\n",
            "        [1.4509e-03, 2.2730e-02, 5.6526e-01, 8.2040e-03, 3.6270e-01, 4.5394e-04,\n",
            "         3.7501e-02, 3.1857e-06, 1.6807e-03, 6.9283e-06],\n",
            "        [6.1715e-03, 1.2973e-04, 1.8967e-01, 2.3735e-03, 8.6538e-02, 6.0040e-05,\n",
            "         7.0616e-01, 8.9360e-08, 8.8998e-03, 2.7516e-06],\n",
            "        [1.2181e-02, 3.5919e-04, 2.3545e-01, 1.2175e-03, 4.1968e-01, 9.2467e-05,\n",
            "         3.1394e-01, 5.9277e-07, 1.7063e-02, 9.1175e-06],\n",
            "        [6.3702e-03, 7.9457e-04, 6.6288e-01, 2.3793e-03, 5.1432e-02, 2.0586e-03,\n",
            "         2.6899e-01, 7.1915e-07, 5.0953e-03, 3.4964e-06],\n",
            "        [3.0052e-03, 1.5570e-03, 7.3134e-03, 3.5908e-03, 1.1554e-03, 8.7379e-01,\n",
            "         3.3940e-03, 9.1962e-02, 6.9744e-03, 7.2591e-03],\n",
            "        [4.1840e-02, 1.1063e-04, 9.0304e-02, 2.0848e-03, 2.2629e-02, 3.2109e-03,\n",
            "         4.9959e-01, 1.3226e-05, 3.3903e-01, 1.1882e-03],\n",
            "        [1.0785e-02, 2.2739e-02, 5.6037e-01, 2.3918e-02, 3.2651e-01, 6.1109e-05,\n",
            "         5.3396e-02, 1.5505e-06, 2.2185e-03, 1.7786e-06],\n",
            "        [5.7674e-02, 1.3594e-03, 8.4291e-01, 2.4969e-03, 8.2693e-03, 1.3386e-04,\n",
            "         8.4614e-02, 3.2139e-07, 2.5315e-03, 8.4822e-06],\n",
            "        [1.9393e-04, 3.5049e-07, 6.0799e-04, 1.8538e-05, 2.0356e-03, 2.9702e-04,\n",
            "         1.2298e-03, 6.4514e-05, 9.9550e-01, 4.8190e-05],\n",
            "        [5.8466e-04, 2.9573e-04, 3.8191e-01, 1.3916e-03, 4.5737e-01, 4.7652e-05,\n",
            "         1.5316e-01, 1.4944e-07, 5.2376e-03, 1.8760e-06],\n",
            "        [1.5246e-04, 2.0194e-07, 5.4180e-04, 1.0198e-05, 7.5722e-04, 5.5149e-04,\n",
            "         1.0190e-03, 7.7452e-05, 9.9682e-01, 6.8455e-05],\n",
            "        [8.2171e-01, 8.8221e-03, 3.9248e-02, 1.9967e-02, 3.3623e-03, 1.7651e-04,\n",
            "         1.0604e-01, 1.1328e-05, 6.5765e-04, 8.4589e-06],\n",
            "        [1.5352e-06, 2.8239e-06, 3.8606e-06, 3.9767e-06, 8.3196e-06, 2.6051e-02,\n",
            "         1.1317e-06, 9.6931e-01, 3.1904e-04, 4.3008e-03],\n",
            "        [5.0365e-07, 9.1191e-07, 2.8677e-06, 2.2729e-06, 6.5445e-06, 5.8968e-02,\n",
            "         8.1643e-07, 8.8438e-01, 2.6215e-03, 5.4018e-02],\n",
            "        [7.6841e-07, 9.1818e-07, 1.2608e-04, 9.7917e-06, 7.2894e-04, 8.7856e-03,\n",
            "         2.2280e-05, 4.7326e-03, 9.8261e-01, 2.9847e-03],\n",
            "        [3.9627e-04, 6.4738e-05, 1.4017e-03, 2.0205e-04, 2.4370e-04, 9.7831e-01,\n",
            "         1.0411e-03, 9.8391e-03, 5.1904e-03, 3.3128e-03]])\n"
          ],
          "name": "stdout"
        }
      ]
    },
    {
      "cell_type": "markdown",
      "metadata": {
        "id": "LwvSeN3B1bv0"
      },
      "source": [
        " Each of these lines corresponds to the probability that the neural network predicts it's one of the classes."
      ]
    },
    {
      "cell_type": "code",
      "metadata": {
        "id": "6Ij_wa7paveM"
      },
      "source": [
        "with torch.no_grad():\n",
        "    num_correct = 0\n",
        "    total = 0\n",
        "\n",
        "    #set_trace()\n",
        "    for images, labels in testloader:\n",
        "        \n",
        "        logps = model(images)\n",
        "        output = torch.exp(logps)\n",
        "        \n",
        "        pred = torch.argmax(output, 1)\n",
        "        total += labels.size(0)\n"
      ],
      "execution_count": 12,
      "outputs": []
    },
    {
      "cell_type": "markdown",
      "metadata": {
        "id": "tR9kXp9G1sou"
      },
      "source": [
        "If you want the class with the highest probability, all we need to do is to grab the index with the highest value, using a highest function like argmax. And what we'll do is we'll keep a track of all of the images using the total variable. "
      ]
    },
    {
      "cell_type": "markdown",
      "metadata": {
        "id": "Cfy5Jd2k1sfr"
      },
      "source": [
        ""
      ]
    },
    {
      "cell_type": "code",
      "metadata": {
        "id": "nyxadgAyiRqg",
        "colab": {
          "base_uri": "https://localhost:8080/"
        },
        "outputId": "b573938a-8fc7-4bfd-f1c4-a8d1cc5fab96"
      },
      "source": [
        "pred, labels"
      ],
      "execution_count": 13,
      "outputs": [
        {
          "output_type": "execute_result",
          "data": {
            "text/plain": [
              "(tensor([3, 3, 7, 5, 8, 4, 5, 6, 8, 9, 1, 9, 1, 8, 1, 5]),\n",
              " tensor([3, 2, 7, 5, 8, 4, 5, 6, 8, 9, 1, 9, 1, 8, 1, 5]))"
            ]
          },
          "metadata": {
            "tags": []
          },
          "execution_count": 13
        }
      ]
    },
    {
      "cell_type": "markdown",
      "metadata": {
        "id": "L8nimRJg2KUh"
      },
      "source": [
        "Now if you look at the last couple of entries for the predictions and the labels, you can see that they're almost identical. "
      ]
    },
    {
      "cell_type": "code",
      "metadata": {
        "id": "ojLPwZLdi3OX",
        "colab": {
          "base_uri": "https://localhost:8080/"
        },
        "outputId": "2dff88ee-df2c-4ac4-8e26-d3a1461d6301"
      },
      "source": [
        "pred == labels"
      ],
      "execution_count": 15,
      "outputs": [
        {
          "output_type": "execute_result",
          "data": {
            "text/plain": [
              "tensor([ True, False,  True,  True,  True,  True,  True,  True,  True,  True,\n",
              "         True,  True,  True,  True,  True,  True])"
            ]
          },
          "metadata": {
            "tags": []
          },
          "execution_count": 15
        }
      ]
    },
    {
      "cell_type": "markdown",
      "metadata": {
        "id": "s4gTKu9M2SXS"
      },
      "source": [
        " we can compare the entire pred and labels and where they're the same, we'll get a value of one and where they're not the same it's going to be a zero. That's why we can use the pred equals equals labels and then do a sum of that to get the total number of correct entries. The item function that we've stuck onto the end, gives you a number from a tensor containing a single value. And finally, in the last line we can print the percentage accuracy as being the number of correct divided by the total number of labels. And you can see that the accuracy of the model for the 10,000 test images is approximately 82%."
      ]
    },
    {
      "cell_type": "code",
      "metadata": {
        "id": "6V-3r9n-iCMb",
        "colab": {
          "base_uri": "https://localhost:8080/"
        },
        "outputId": "e654f95a-189b-4e48-8e6b-957643f66b23"
      },
      "source": [
        "with torch.no_grad():\n",
        "    num_correct = 0\n",
        "    total = 0\n",
        "\n",
        "    #set_trace()\n",
        "    for images, labels in testloader:\n",
        "        \n",
        "        logps = model(images)\n",
        "        output = torch.exp(logps)\n",
        "        \n",
        "        pred = torch.argmax(output, 1)\n",
        "        total += labels.size(0)\n",
        "        num_correct += (pred == labels).sum().item()\n",
        "\n",
        "    print(f'Accuracy of the model on the 10000 test images: {num_correct * 100 / total}% ')"
      ],
      "execution_count": 14,
      "outputs": [
        {
          "output_type": "stream",
          "text": [
            "Accuracy of the model on the 10000 test images: 81.76% \n"
          ],
          "name": "stdout"
        }
      ]
    },
    {
      "cell_type": "code",
      "metadata": {
        "id": "2VNQH0g6F8xH"
      },
      "source": [
        ""
      ],
      "execution_count": null,
      "outputs": []
    }
  ]
}