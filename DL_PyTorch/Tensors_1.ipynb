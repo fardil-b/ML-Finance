{
  "nbformat": 4,
  "nbformat_minor": 0,
  "metadata": {
    "colab": {
      "name": "Tensors_1.ipynb",
      "provenance": [],
      "collapsed_sections": [],
      "include_colab_link": true
    },
    "kernelspec": {
      "display_name": "Python 3",
      "language": "python",
      "name": "python3"
    },
    "language_info": {
      "codemirror_mode": {
        "name": "ipython",
        "version": 3
      },
      "file_extension": ".py",
      "mimetype": "text/x-python",
      "name": "python",
      "nbconvert_exporter": "python",
      "pygments_lexer": "ipython3",
      "version": "3.6.8"
    }
  },
  "cells": [
    {
      "cell_type": "markdown",
      "metadata": {
        "id": "view-in-github",
        "colab_type": "text"
      },
      "source": [
        "<a href=\"https://colab.research.google.com/github/fardil-b/DL-PyTorch/blob/main/Tensors_1.ipynb\" target=\"_parent\"><img src=\"https://colab.research.google.com/assets/colab-badge.svg\" alt=\"Open In Colab\"/></a>"
      ]
    },
    {
      "cell_type": "markdown",
      "metadata": {
        "id": "LFNM3-HxkJtN"
      },
      "source": [
        "# Tensors "
      ]
    },
    {
      "cell_type": "code",
      "metadata": {
        "id": "IkXveXITKBst"
      },
      "source": [
        "import torch"
      ],
      "execution_count": 1,
      "outputs": []
    },
    {
      "cell_type": "markdown",
      "metadata": {
        "id": "0ipN4cH3zsO8"
      },
      "source": [
        "## zeros()"
      ]
    },
    {
      "cell_type": "markdown",
      "metadata": {
        "id": "Hk3WU2CqEDM1"
      },
      "source": [
        "Returns a tensor filled with the scalar value `0`, with the shape defined\n",
        "by the variable argument :attr:`size`."
      ]
    },
    {
      "cell_type": "code",
      "metadata": {
        "id": "z_fJogRyKDr0",
        "outputId": "033693c5-4588-4bfa-da45-816ad95eee2d",
        "colab": {
          "base_uri": "https://localhost:8080/"
        }
      },
      "source": [
        "w = torch.zeros(4,3)\n",
        "w"
      ],
      "execution_count": 3,
      "outputs": [
        {
          "output_type": "execute_result",
          "data": {
            "text/plain": [
              "tensor([[0., 0., 0.],\n",
              "        [0., 0., 0.],\n",
              "        [0., 0., 0.],\n",
              "        [0., 0., 0.]])"
            ]
          },
          "metadata": {
            "tags": []
          },
          "execution_count": 3
        }
      ]
    },
    {
      "cell_type": "code",
      "metadata": {
        "id": "gVdaTJb-KDkE"
      },
      "source": [
        ""
      ],
      "execution_count": null,
      "outputs": []
    },
    {
      "cell_type": "markdown",
      "metadata": {
        "id": "Jl7s1b1pz4Vb"
      },
      "source": [
        "## size() and shape"
      ]
    },
    {
      "cell_type": "code",
      "metadata": {
        "id": "1_Q-KIOPKK78",
        "outputId": "01698e3a-e63d-4cf9-8e1e-9aeb8fad9474",
        "colab": {
          "base_uri": "https://localhost:8080/"
        }
      },
      "source": [
        "w.size()"
      ],
      "execution_count": 4,
      "outputs": [
        {
          "output_type": "execute_result",
          "data": {
            "text/plain": [
              "torch.Size([4, 3])"
            ]
          },
          "metadata": {
            "tags": []
          },
          "execution_count": 4
        }
      ]
    },
    {
      "cell_type": "code",
      "metadata": {
        "id": "K_yYV8EtKKzU",
        "outputId": "9063e27c-6f23-43be-bad2-a2026fe9ead1",
        "colab": {
          "base_uri": "https://localhost:8080/"
        }
      },
      "source": [
        "w.shape"
      ],
      "execution_count": 6,
      "outputs": [
        {
          "output_type": "execute_result",
          "data": {
            "text/plain": [
              "torch.Size([4, 3])"
            ]
          },
          "metadata": {
            "tags": []
          },
          "execution_count": 6
        }
      ]
    },
    {
      "cell_type": "markdown",
      "metadata": {
        "id": "6OZJGG9w0DL6"
      },
      "source": [
        "## randn() and randn_like()"
      ]
    },
    {
      "cell_type": "markdown",
      "metadata": {
        "id": "9feNB2m8E92z"
      },
      "source": [
        "In neural network when we define the weight, we normally start with random numbers, from standard normal distribution --> mean of zero and std deviation of 1"
      ]
    },
    {
      "cell_type": "code",
      "metadata": {
        "id": "97l5AQSAE9c5",
        "outputId": "69bc4fdb-3363-4d48-fe25-2e5c525f0864",
        "colab": {
          "base_uri": "https://localhost:8080/"
        }
      },
      "source": [
        "w = torch.randn(4,3)\n",
        "w"
      ],
      "execution_count": 8,
      "outputs": [
        {
          "output_type": "execute_result",
          "data": {
            "text/plain": [
              "tensor([[ 1.0386,  1.3369,  1.4419],\n",
              "        [ 0.6198, -1.4313,  0.0167],\n",
              "        [-0.9168,  0.8383, -0.0720],\n",
              "        [-0.5230,  0.2255, -0.1605]])"
            ]
          },
          "metadata": {
            "tags": []
          },
          "execution_count": 8
        }
      ]
    },
    {
      "cell_type": "markdown",
      "metadata": {
        "id": "-ojjJbr4FuXS"
      },
      "source": [
        "Returns a tensor filled with random numbers from a normal distribution\n",
        "with mean `0` and variance `1` (also called the standard normal\n",
        "distribution)."
      ]
    },
    {
      "cell_type": "code",
      "metadata": {
        "id": "pElZxDIKKPoc",
        "outputId": "ea411431-9eae-419a-bbc6-f027d8e1d49b",
        "colab": {
          "base_uri": "https://localhost:8080/"
        }
      },
      "source": [
        "t = torch.randn_like(w)\n",
        "t"
      ],
      "execution_count": 10,
      "outputs": [
        {
          "output_type": "execute_result",
          "data": {
            "text/plain": [
              "tensor([[-1.0020, -2.1988, -0.7341],\n",
              "        [-0.8236, -0.5636,  0.2728],\n",
              "        [ 0.3694, -0.1745,  0.6602],\n",
              "        [ 0.2819,  0.5986, -0.1155]])"
            ]
          },
          "metadata": {
            "tags": []
          },
          "execution_count": 10
        }
      ]
    },
    {
      "cell_type": "markdown",
      "metadata": {
        "id": "MOUUtjdsGGE6"
      },
      "source": [
        "Returns a tensor with the same size as :attr:`input` that is filled with\n",
        "random numbers from a normal distribution with mean 0 and variance 1.\n",
        "``torch.randn_like(input)`` is equivalent to\n",
        "``torch.randn(input.size(), dtype=input.dtype, layout=input.layout, device=input.device)``.\n"
      ]
    },
    {
      "cell_type": "code",
      "metadata": {
        "id": "7xZjvbyhGMgc"
      },
      "source": [
        ""
      ],
      "execution_count": null,
      "outputs": []
    },
    {
      "cell_type": "markdown",
      "metadata": {
        "id": "3rshy4Vq0Jft"
      },
      "source": [
        "## fill_()"
      ]
    },
    {
      "cell_type": "markdown",
      "metadata": {
        "id": "Alv_DrIRGv2H"
      },
      "source": [
        "In pyTorch, any operation that mutates a tensor in-place has an underscore after the function name"
      ]
    },
    {
      "cell_type": "code",
      "metadata": {
        "id": "YH1cBgIoKXGr",
        "outputId": "b259f946-4caf-4ed8-b48c-a9f54e877311",
        "colab": {
          "base_uri": "https://localhost:8080/"
        }
      },
      "source": [
        "w.fill_(1)"
      ],
      "execution_count": 11,
      "outputs": [
        {
          "output_type": "execute_result",
          "data": {
            "text/plain": [
              "tensor([[1., 1., 1.],\n",
              "        [1., 1., 1.],\n",
              "        [1., 1., 1.],\n",
              "        [1., 1., 1.]])"
            ]
          },
          "metadata": {
            "tags": []
          },
          "execution_count": 11
        }
      ]
    },
    {
      "cell_type": "markdown",
      "metadata": {
        "id": "XHdmlvURGhv4"
      },
      "source": [
        "Fills :attr:`self` tensor with the specified value.\n"
      ]
    },
    {
      "cell_type": "code",
      "metadata": {
        "id": "e8B5NyXJKXAS"
      },
      "source": [
        ""
      ],
      "execution_count": null,
      "outputs": []
    },
    {
      "cell_type": "markdown",
      "metadata": {
        "id": "_eLyYpfw0ot_"
      },
      "source": [
        "## view()"
      ]
    },
    {
      "cell_type": "code",
      "metadata": {
        "id": "8SVsRZWjV6YX",
        "outputId": "bd54ec03-56b1-4d94-b1e9-6fbcddadfea0",
        "colab": {
          "base_uri": "https://localhost:8080/"
        }
      },
      "source": [
        "w"
      ],
      "execution_count": 12,
      "outputs": [
        {
          "output_type": "execute_result",
          "data": {
            "text/plain": [
              "tensor([[1., 1., 1.],\n",
              "        [1., 1., 1.],\n",
              "        [1., 1., 1.],\n",
              "        [1., 1., 1.]])"
            ]
          },
          "metadata": {
            "tags": []
          },
          "execution_count": 12
        }
      ]
    },
    {
      "cell_type": "code",
      "metadata": {
        "id": "rRjvqiWBVhKH",
        "outputId": "c98228ae-7465-4301-8272-5d040aeb9f9a",
        "colab": {
          "base_uri": "https://localhost:8080/"
        }
      },
      "source": [
        "t = w.view(3,4)\n",
        "t"
      ],
      "execution_count": 13,
      "outputs": [
        {
          "output_type": "execute_result",
          "data": {
            "text/plain": [
              "tensor([[1., 1., 1., 1.],\n",
              "        [1., 1., 1., 1.],\n",
              "        [1., 1., 1., 1.]])"
            ]
          },
          "metadata": {
            "tags": []
          },
          "execution_count": 13
        }
      ]
    },
    {
      "cell_type": "markdown",
      "metadata": {
        "id": "dkE7G23NHjkQ"
      },
      "source": [
        "Returns a new tensor with the same data as the :attr:`self` tensor but of a\n",
        "different :attr:`shape`.\n",
        "\n",
        "The returned tensor shares the same data and must have the same number\n",
        "of elements, but may have a different size. For a tensor to be viewed, the new\n",
        "view size must be compatible with its original size and stride, i.e., each new\n",
        "view dimension must either be a subspace of an original dimension, or only span\n",
        "across original dimensions :math:`d, d+1, \\dots, d+k` that satisfy the following\n",
        "contiguity-like condition that :math:`\\forall i = d, \\dots, d+k-1`,\n"
      ]
    },
    {
      "cell_type": "code",
      "metadata": {
        "id": "4Le5ZoASVgsw",
        "outputId": "a00a36eb-493d-4be0-e741-e52e7876ded0",
        "colab": {
          "base_uri": "https://localhost:8080/"
        }
      },
      "source": [
        "w.view(3,-1)"
      ],
      "execution_count": 14,
      "outputs": [
        {
          "output_type": "execute_result",
          "data": {
            "text/plain": [
              "tensor([[1., 1., 1., 1.],\n",
              "        [1., 1., 1., 1.],\n",
              "        [1., 1., 1., 1.]])"
            ]
          },
          "metadata": {
            "tags": []
          },
          "execution_count": 14
        }
      ]
    },
    {
      "cell_type": "markdown",
      "metadata": {
        "id": "O7OnDkxj329A"
      },
      "source": [
        "## numpy()"
      ]
    },
    {
      "cell_type": "markdown",
      "metadata": {
        "id": "XusGoSlFID0F"
      },
      "source": [
        "convert tensor to a numpy array\n",
        "--> if the torch tensor is in the cpu, the torch tensor and the numpy array will share their underlying memory location --> so changing one will change the other"
      ]
    },
    {
      "cell_type": "code",
      "metadata": {
        "id": "VbXZYL6uWCD4",
        "outputId": "7d841f42-50f6-459a-f749-cd19521a277a",
        "colab": {
          "base_uri": "https://localhost:8080/"
        }
      },
      "source": [
        "w.numpy()"
      ],
      "execution_count": 15,
      "outputs": [
        {
          "output_type": "execute_result",
          "data": {
            "text/plain": [
              "array([[1., 1., 1.],\n",
              "       [1., 1., 1.],\n",
              "       [1., 1., 1.],\n",
              "       [1., 1., 1.]], dtype=float32)"
            ]
          },
          "metadata": {
            "tags": []
          },
          "execution_count": 15
        }
      ]
    },
    {
      "cell_type": "markdown",
      "metadata": {
        "id": "a0OkyrsnIwlE"
      },
      "source": [
        "Returns :attr:`self` tensor as a NumPy :class:`ndarray`. This tensor and the\n",
        "returned :class:`ndarray` share the same underlying storage. Changes to\n",
        ":attr:`self` tensor will be reflected in the :class:`ndarray` and vice versa."
      ]
    },
    {
      "cell_type": "code",
      "metadata": {
        "id": "YL0za74iWBsn",
        "outputId": "d570ab4b-d5bd-44eb-c43c-3c836d19f0dd",
        "colab": {
          "base_uri": "https://localhost:8080/"
        }
      },
      "source": [
        "type(w.numpy())"
      ],
      "execution_count": 16,
      "outputs": [
        {
          "output_type": "execute_result",
          "data": {
            "text/plain": [
              "numpy.ndarray"
            ]
          },
          "metadata": {
            "tags": []
          },
          "execution_count": 16
        }
      ]
    },
    {
      "cell_type": "code",
      "metadata": {
        "id": "vHPIyb8EWBkP"
      },
      "source": [
        ""
      ],
      "execution_count": null,
      "outputs": []
    }
  ]
}